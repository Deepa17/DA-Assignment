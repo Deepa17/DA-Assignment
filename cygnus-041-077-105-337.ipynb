{
 "cells": [
  {
   "cell_type": "markdown",
   "id": "b130f00f",
   "metadata": {
    "papermill": {
     "duration": 0.027622,
     "end_time": "2021-11-06T04:26:59.709023",
     "exception": false,
     "start_time": "2021-11-06T04:26:59.681401",
     "status": "completed"
    },
    "tags": []
   },
   "source": [
    "# DA Assignment\n",
    "<h3>Cygnus</h3> <br>\n",
    "Angelin Ann Jacob - CS 041 <br>\n",
    "Vivek Sai Chinna - CS 077  <br>\n",
    "Rongali Lalith Vardhan - CS 337  <br>\n",
    "Deepa Shree C V - CS 105 \n"
   ]
  },
  {
   "cell_type": "markdown",
   "id": "3cd3d110",
   "metadata": {
    "papermill": {
     "duration": 0.02313,
     "end_time": "2021-11-06T04:26:59.756706",
     "exception": false,
     "start_time": "2021-11-06T04:26:59.733576",
     "status": "completed"
    },
    "tags": []
   },
   "source": [
    "<h2> EDA </h2>"
   ]
  },
  {
   "cell_type": "code",
   "execution_count": 1,
   "id": "ed19e9e5",
   "metadata": {
    "execution": {
     "iopub.execute_input": "2021-11-06T04:26:59.808707Z",
     "iopub.status.busy": "2021-11-06T04:26:59.807406Z",
     "iopub.status.idle": "2021-11-06T04:27:01.921747Z",
     "shell.execute_reply": "2021-11-06T04:27:01.921012Z",
     "shell.execute_reply.started": "2021-11-06T04:25:30.697386Z"
    },
    "papermill": {
     "duration": 2.141908,
     "end_time": "2021-11-06T04:27:01.921927",
     "exception": false,
     "start_time": "2021-11-06T04:26:59.780019",
     "status": "completed"
    },
    "tags": []
   },
   "outputs": [],
   "source": [
    "#importing the required packages\n",
    "import pandas as pd\n",
    "import matplotlib.pyplot as plt\n",
    "import numpy as np\n",
    "\n",
    "import warnings \n",
    "warnings.filterwarnings(\"ignore\")\n",
    "\n",
    "from sklearn.metrics import mean_squared_error\n",
    "\n",
    "import statsmodels\n",
    "import statsmodels.api as sm\n",
    "\n",
    "from sklearn.model_selection import train_test_split\n",
    "from sklearn.pipeline import Pipeline\n",
    "from sklearn.linear_model import LinearRegression\n",
    "from sklearn.preprocessing import StandardScaler"
   ]
  },
  {
   "cell_type": "code",
   "execution_count": 2,
   "id": "172622b0",
   "metadata": {
    "execution": {
     "iopub.execute_input": "2021-11-06T04:27:01.973004Z",
     "iopub.status.busy": "2021-11-06T04:27:01.972416Z",
     "iopub.status.idle": "2021-11-06T04:27:01.996292Z",
     "shell.execute_reply": "2021-11-06T04:27:01.996848Z",
     "shell.execute_reply.started": "2021-11-06T04:25:32.518435Z"
    },
    "papermill": {
     "duration": 0.050908,
     "end_time": "2021-11-06T04:27:01.997020",
     "exception": false,
     "start_time": "2021-11-06T04:27:01.946112",
     "status": "completed"
    },
    "tags": []
   },
   "outputs": [],
   "source": [
    "df = pd.read_csv('../input/pes-ec-dataanalytics-assign/train.csv')"
   ]
  },
  {
   "cell_type": "code",
   "execution_count": 3,
   "id": "c4ff871b",
   "metadata": {
    "execution": {
     "iopub.execute_input": "2021-11-06T04:27:02.049032Z",
     "iopub.status.busy": "2021-11-06T04:27:02.048089Z",
     "iopub.status.idle": "2021-11-06T04:27:02.076129Z",
     "shell.execute_reply": "2021-11-06T04:27:02.076675Z",
     "shell.execute_reply.started": "2021-11-06T04:25:32.542935Z"
    },
    "papermill": {
     "duration": 0.05637,
     "end_time": "2021-11-06T04:27:02.076858",
     "exception": false,
     "start_time": "2021-11-06T04:27:02.020488",
     "status": "completed"
    },
    "tags": []
   },
   "outputs": [
    {
     "name": "stdout",
     "output_type": "stream",
     "text": [
      "<class 'pandas.core.frame.DataFrame'>\n",
      "RangeIndex: 1500 entries, 0 to 1499\n",
      "Data columns (total 6 columns):\n",
      " #   Column  Non-Null Count  Dtype  \n",
      "---  ------  --------------  -----  \n",
      " 0   Date    1500 non-null   object \n",
      " 1   Open    1500 non-null   float64\n",
      " 2   High    1500 non-null   float64\n",
      " 3   Low     1500 non-null   float64\n",
      " 4   Volume  1500 non-null   int64  \n",
      " 5   Close   1500 non-null   float64\n",
      "dtypes: float64(4), int64(1), object(1)\n",
      "memory usage: 70.4+ KB\n"
     ]
    }
   ],
   "source": [
    "df.info()"
   ]
  },
  {
   "cell_type": "code",
   "execution_count": 4,
   "id": "659ad17d",
   "metadata": {
    "execution": {
     "iopub.execute_input": "2021-11-06T04:27:02.133651Z",
     "iopub.status.busy": "2021-11-06T04:27:02.132964Z",
     "iopub.status.idle": "2021-11-06T04:27:02.149263Z",
     "shell.execute_reply": "2021-11-06T04:27:02.149777Z",
     "shell.execute_reply.started": "2021-11-06T04:25:32.571477Z"
    },
    "papermill": {
     "duration": 0.048539,
     "end_time": "2021-11-06T04:27:02.149951",
     "exception": false,
     "start_time": "2021-11-06T04:27:02.101412",
     "status": "completed"
    },
    "tags": []
   },
   "outputs": [
    {
     "data": {
      "text/html": [
       "<div>\n",
       "<style scoped>\n",
       "    .dataframe tbody tr th:only-of-type {\n",
       "        vertical-align: middle;\n",
       "    }\n",
       "\n",
       "    .dataframe tbody tr th {\n",
       "        vertical-align: top;\n",
       "    }\n",
       "\n",
       "    .dataframe thead th {\n",
       "        text-align: right;\n",
       "    }\n",
       "</style>\n",
       "<table border=\"1\" class=\"dataframe\">\n",
       "  <thead>\n",
       "    <tr style=\"text-align: right;\">\n",
       "      <th></th>\n",
       "      <th>Date</th>\n",
       "      <th>Open</th>\n",
       "      <th>High</th>\n",
       "      <th>Low</th>\n",
       "      <th>Volume</th>\n",
       "      <th>Close</th>\n",
       "    </tr>\n",
       "  </thead>\n",
       "  <tbody>\n",
       "    <tr>\n",
       "      <th>0</th>\n",
       "      <td>14-08-2015</td>\n",
       "      <td>57.484790</td>\n",
       "      <td>58.398406</td>\n",
       "      <td>57.342469</td>\n",
       "      <td>171718000</td>\n",
       "      <td>58.237720</td>\n",
       "    </tr>\n",
       "    <tr>\n",
       "      <th>1</th>\n",
       "      <td>17-08-2015</td>\n",
       "      <td>58.274453</td>\n",
       "      <td>59.013611</td>\n",
       "      <td>58.026536</td>\n",
       "      <td>163538800</td>\n",
       "      <td>58.788651</td>\n",
       "    </tr>\n",
       "    <tr>\n",
       "      <th>2</th>\n",
       "      <td>18-08-2015</td>\n",
       "      <td>58.453501</td>\n",
       "      <td>58.917197</td>\n",
       "      <td>58.260678</td>\n",
       "      <td>138242800</td>\n",
       "      <td>58.485638</td>\n",
       "    </tr>\n",
       "    <tr>\n",
       "      <th>3</th>\n",
       "      <td>19-08-2015</td>\n",
       "      <td>58.301997</td>\n",
       "      <td>58.494820</td>\n",
       "      <td>57.650069</td>\n",
       "      <td>193146000</td>\n",
       "      <td>57.801575</td>\n",
       "    </tr>\n",
       "    <tr>\n",
       "      <th>4</th>\n",
       "      <td>20-08-2015</td>\n",
       "      <td>57.374601</td>\n",
       "      <td>57.498558</td>\n",
       "      <td>56.249794</td>\n",
       "      <td>274006400</td>\n",
       "      <td>56.718082</td>\n",
       "    </tr>\n",
       "  </tbody>\n",
       "</table>\n",
       "</div>"
      ],
      "text/plain": [
       "         Date       Open       High        Low     Volume      Close\n",
       "0  14-08-2015  57.484790  58.398406  57.342469  171718000  58.237720\n",
       "1  17-08-2015  58.274453  59.013611  58.026536  163538800  58.788651\n",
       "2  18-08-2015  58.453501  58.917197  58.260678  138242800  58.485638\n",
       "3  19-08-2015  58.301997  58.494820  57.650069  193146000  57.801575\n",
       "4  20-08-2015  57.374601  57.498558  56.249794  274006400  56.718082"
      ]
     },
     "execution_count": 4,
     "metadata": {},
     "output_type": "execute_result"
    }
   ],
   "source": [
    "df.head()"
   ]
  },
  {
   "cell_type": "code",
   "execution_count": 5,
   "id": "0263639d",
   "metadata": {
    "execution": {
     "iopub.execute_input": "2021-11-06T04:27:02.204679Z",
     "iopub.status.busy": "2021-11-06T04:27:02.203895Z",
     "iopub.status.idle": "2021-11-06T04:27:02.218625Z",
     "shell.execute_reply": "2021-11-06T04:27:02.217963Z",
     "shell.execute_reply.started": "2021-11-06T04:25:32.593534Z"
    },
    "papermill": {
     "duration": 0.044632,
     "end_time": "2021-11-06T04:27:02.218767",
     "exception": false,
     "start_time": "2021-11-06T04:27:02.174135",
     "status": "completed"
    },
    "tags": []
   },
   "outputs": [
    {
     "data": {
      "text/html": [
       "<div>\n",
       "<style scoped>\n",
       "    .dataframe tbody tr th:only-of-type {\n",
       "        vertical-align: middle;\n",
       "    }\n",
       "\n",
       "    .dataframe tbody tr th {\n",
       "        vertical-align: top;\n",
       "    }\n",
       "\n",
       "    .dataframe thead th {\n",
       "        text-align: right;\n",
       "    }\n",
       "</style>\n",
       "<table border=\"1\" class=\"dataframe\">\n",
       "  <thead>\n",
       "    <tr style=\"text-align: right;\">\n",
       "      <th></th>\n",
       "      <th>Open</th>\n",
       "      <th>High</th>\n",
       "      <th>Low</th>\n",
       "      <th>Volume</th>\n",
       "      <th>Close</th>\n",
       "    </tr>\n",
       "  </thead>\n",
       "  <tbody>\n",
       "    <tr>\n",
       "      <th>Open</th>\n",
       "      <td>1.000000</td>\n",
       "      <td>0.999822</td>\n",
       "      <td>0.999744</td>\n",
       "      <td>-0.162110</td>\n",
       "      <td>0.999575</td>\n",
       "    </tr>\n",
       "    <tr>\n",
       "      <th>High</th>\n",
       "      <td>0.999822</td>\n",
       "      <td>1.000000</td>\n",
       "      <td>0.999684</td>\n",
       "      <td>-0.155877</td>\n",
       "      <td>0.999777</td>\n",
       "    </tr>\n",
       "    <tr>\n",
       "      <th>Low</th>\n",
       "      <td>0.999744</td>\n",
       "      <td>0.999684</td>\n",
       "      <td>1.000000</td>\n",
       "      <td>-0.170326</td>\n",
       "      <td>0.999782</td>\n",
       "    </tr>\n",
       "    <tr>\n",
       "      <th>Volume</th>\n",
       "      <td>-0.162110</td>\n",
       "      <td>-0.155877</td>\n",
       "      <td>-0.170326</td>\n",
       "      <td>1.000000</td>\n",
       "      <td>-0.163713</td>\n",
       "    </tr>\n",
       "    <tr>\n",
       "      <th>Close</th>\n",
       "      <td>0.999575</td>\n",
       "      <td>0.999777</td>\n",
       "      <td>0.999782</td>\n",
       "      <td>-0.163713</td>\n",
       "      <td>1.000000</td>\n",
       "    </tr>\n",
       "  </tbody>\n",
       "</table>\n",
       "</div>"
      ],
      "text/plain": [
       "            Open      High       Low    Volume     Close\n",
       "Open    1.000000  0.999822  0.999744 -0.162110  0.999575\n",
       "High    0.999822  1.000000  0.999684 -0.155877  0.999777\n",
       "Low     0.999744  0.999684  1.000000 -0.170326  0.999782\n",
       "Volume -0.162110 -0.155877 -0.170326  1.000000 -0.163713\n",
       "Close   0.999575  0.999777  0.999782 -0.163713  1.000000"
      ]
     },
     "execution_count": 5,
     "metadata": {},
     "output_type": "execute_result"
    }
   ],
   "source": [
    "#checking for correlation between the columns\n",
    "df.corr()"
   ]
  },
  {
   "cell_type": "code",
   "execution_count": 6,
   "id": "4a372623",
   "metadata": {
    "execution": {
     "iopub.execute_input": "2021-11-06T04:27:02.277902Z",
     "iopub.status.busy": "2021-11-06T04:27:02.277210Z",
     "iopub.status.idle": "2021-11-06T04:27:02.280389Z",
     "shell.execute_reply": "2021-11-06T04:27:02.279847Z",
     "shell.execute_reply.started": "2021-11-06T04:25:32.610054Z"
    },
    "papermill": {
     "duration": 0.03664,
     "end_time": "2021-11-06T04:27:02.280527",
     "exception": false,
     "start_time": "2021-11-06T04:27:02.243887",
     "status": "completed"
    },
    "tags": []
   },
   "outputs": [
    {
     "data": {
      "text/plain": [
       "Date      0\n",
       "Open      0\n",
       "High      0\n",
       "Low       0\n",
       "Volume    0\n",
       "Close     0\n",
       "dtype: int64"
      ]
     },
     "execution_count": 6,
     "metadata": {},
     "output_type": "execute_result"
    }
   ],
   "source": [
    "#inspecting the null values\n",
    "df.isnull().sum()"
   ]
  },
  {
   "cell_type": "markdown",
   "id": "08c7631e",
   "metadata": {
    "papermill": {
     "duration": 0.024757,
     "end_time": "2021-11-06T04:27:02.330705",
     "exception": false,
     "start_time": "2021-11-06T04:27:02.305948",
     "status": "completed"
    },
    "tags": []
   },
   "source": [
    "# **Forecasting**"
   ]
  },
  {
   "cell_type": "markdown",
   "id": "b073985d",
   "metadata": {
    "papermill": {
     "duration": 0.024643,
     "end_time": "2021-11-06T04:27:02.380418",
     "exception": false,
     "start_time": "2021-11-06T04:27:02.355775",
     "status": "completed"
    },
    "tags": []
   },
   "source": [
    "<h3>Holt Winters Method:</h3>\n",
    "The target variable is analysed carefully and when decomposed trend and seasonality are observed. Hence, the above model is used for forecasting. All variations of the model have been tried out to obtain the best results."
   ]
  },
  {
   "cell_type": "markdown",
   "id": "74f86517",
   "metadata": {
    "papermill": {
     "duration": 0.024913,
     "end_time": "2021-11-06T04:27:02.430454",
     "exception": false,
     "start_time": "2021-11-06T04:27:02.405541",
     "status": "completed"
    },
    "tags": []
   },
   "source": [
    "<h4>Seasonal Decomposition of the components of the target variable 'Close'<h4>"
   ]
  },
  {
   "cell_type": "code",
   "execution_count": 7,
   "id": "9fe2f008",
   "metadata": {
    "execution": {
     "iopub.execute_input": "2021-11-06T04:27:02.500937Z",
     "iopub.status.busy": "2021-11-06T04:27:02.487635Z",
     "iopub.status.idle": "2021-11-06T04:27:03.267317Z",
     "shell.execute_reply": "2021-11-06T04:27:03.266688Z",
     "shell.execute_reply.started": "2021-11-06T04:25:32.619749Z"
    },
    "papermill": {
     "duration": 0.811372,
     "end_time": "2021-11-06T04:27:03.267459",
     "exception": false,
     "start_time": "2021-11-06T04:27:02.456087",
     "status": "completed"
    },
    "tags": []
   },
   "outputs": [
    {
     "data": {
      "image/png": "[encoded data removed]",
      "text/plain": [
       "<Figure size 432x288 with 4 Axes>"
      ]
     },
     "metadata": {
      "needs_background": "light"
     },
     "output_type": "display_data"
    }
   ],
   "source": [
    "#multiplicative decompositon\n",
    "sm.tsa.seasonal_decompose(df['Close'],model='multiplicative',period = 365).plot()\n",
    "result = sm.tsa.stattools.adfuller(df['Close'])\n",
    "plt.show()"
   ]
  },
  {
   "cell_type": "code",
   "execution_count": 8,
   "id": "58ce7f61",
   "metadata": {
    "execution": {
     "iopub.execute_input": "2021-11-06T04:27:03.383307Z",
     "iopub.status.busy": "2021-11-06T04:27:03.375169Z",
     "iopub.status.idle": "2021-11-06T04:27:04.035477Z",
     "shell.execute_reply": "2021-11-06T04:27:04.035983Z",
     "shell.execute_reply.started": "2021-11-06T04:25:33.409104Z"
    },
    "papermill": {
     "duration": 0.742087,
     "end_time": "2021-11-06T04:27:04.036176",
     "exception": false,
     "start_time": "2021-11-06T04:27:03.294089",
     "status": "completed"
    },
    "tags": []
   },
   "outputs": [
    {
     "data": {
      "image/png": "[encoded data removed]",
      "text/plain": [
       "<Figure size 432x288 with 4 Axes>"
      ]
     },
     "metadata": {
      "needs_background": "light"
     },
     "output_type": "display_data"
    }
   ],
   "source": [
    "#additive decomposition\n",
    "sm.tsa.seasonal_decompose(df['Close'],model='additive',period = 365).plot()\n",
    "result = sm.tsa.stattools.adfuller(df['Close'])\n",
    "plt.show()"
   ]
  },
  {
   "cell_type": "code",
   "execution_count": 9,
   "id": "2460a3f7",
   "metadata": {
    "execution": {
     "iopub.execute_input": "2021-11-06T04:27:04.095058Z",
     "iopub.status.busy": "2021-11-06T04:27:04.094121Z",
     "iopub.status.idle": "2021-11-06T04:27:04.098344Z",
     "shell.execute_reply": "2021-11-06T04:27:04.098789Z",
     "shell.execute_reply.started": "2021-11-06T04:25:34.128241Z"
    },
    "papermill": {
     "duration": 0.035498,
     "end_time": "2021-11-06T04:27:04.098959",
     "exception": false,
     "start_time": "2021-11-06T04:27:04.063461",
     "status": "completed"
    },
    "tags": []
   },
   "outputs": [],
   "source": [
    "#getting the train and the test data. The last 50 instances are forecasted to calculate the rmse\n",
    "train = df['Close'][:1450]\n",
    "test = df['Close'][1450:]"
   ]
  },
  {
   "cell_type": "markdown",
   "id": "a5769973",
   "metadata": {
    "papermill": {
     "duration": 0.02748,
     "end_time": "2021-11-06T04:27:04.153702",
     "exception": false,
     "start_time": "2021-11-06T04:27:04.126222",
     "status": "completed"
    },
    "tags": []
   },
   "source": [
    "All the four variations are considered to build the model, i.e, the multiplicative and additive models of both trend and seasonality. The model where both the trend and seasonality are additive performs better."
   ]
  },
  {
   "cell_type": "code",
   "execution_count": 10,
   "id": "4ff87931",
   "metadata": {
    "execution": {
     "iopub.execute_input": "2021-11-06T04:27:04.212053Z",
     "iopub.status.busy": "2021-11-06T04:27:04.211109Z",
     "iopub.status.idle": "2021-11-06T04:27:10.629218Z",
     "shell.execute_reply": "2021-11-06T04:27:10.629722Z",
     "shell.execute_reply.started": "2021-11-06T04:25:34.134604Z"
    },
    "papermill": {
     "duration": 6.449062,
     "end_time": "2021-11-06T04:27:10.629917",
     "exception": false,
     "start_time": "2021-11-06T04:27:04.180855",
     "status": "completed"
    },
    "tags": []
   },
   "outputs": [
    {
     "name": "stderr",
     "output_type": "stream",
     "text": [
      "/opt/conda/lib/python3.7/site-packages/statsmodels/tsa/holtwinters/model.py:922: ConvergenceWarning: Optimization failed to converge. Check mle_retvals.\n",
      "  ConvergenceWarning,\n"
     ]
    },
    {
     "data": {
      "image/png": "[encoded data removed]",
      "text/plain": [
       "<Figure size 1152x576 with 1 Axes>"
      ]
     },
     "metadata": {
      "needs_background": "light"
     },
     "output_type": "display_data"
    }
   ],
   "source": [
    "y_hat_avg = test.copy()\n",
    "\n",
    "\n",
    "fit2 = statsmodels.tsa.holtwinters.ExponentialSmoothing(np.asarray(train),trend='additive',seasonal='additive',seasonal_periods=365).fit()\n",
    "\n",
    "\n",
    "y_hat_avg['Holt_Winter_add'] = fit2.forecast(steps=len(test))\n",
    "\n",
    "\n",
    "plt.figure(figsize=(16,8))\n",
    "plt.plot( train, label='Train')\n",
    "plt.plot(test, label='Test')\n",
    "\n",
    "plt.plot(y_hat_avg['Holt_Winter_add'], label='Holt_Winter_add')\n",
    "\n",
    "plt.legend(loc='best')\n",
    "plt.show()"
   ]
  },
  {
   "cell_type": "code",
   "execution_count": 11,
   "id": "a0c12f58",
   "metadata": {
    "execution": {
     "iopub.execute_input": "2021-11-06T04:27:10.695606Z",
     "iopub.status.busy": "2021-11-06T04:27:10.694572Z",
     "iopub.status.idle": "2021-11-06T04:27:10.699522Z",
     "shell.execute_reply": "2021-11-06T04:27:10.700012Z",
     "shell.execute_reply.started": "2021-11-06T04:25:40.507504Z"
    },
    "papermill": {
     "duration": 0.040732,
     "end_time": "2021-11-06T04:27:10.700196",
     "exception": false,
     "start_time": "2021-11-06T04:27:10.659464",
     "status": "completed"
    },
    "tags": []
   },
   "outputs": [
    {
     "name": "stdout",
     "output_type": "stream",
     "text": [
      "15.176313245748693\n"
     ]
    }
   ],
   "source": [
    "#calculating the rmse of the model\n",
    "print(mean_squared_error(test,y_hat_avg['Holt_Winter_add'])**0.5)\n"
   ]
  },
  {
   "cell_type": "markdown",
   "id": "54ae853a",
   "metadata": {
    "papermill": {
     "duration": 0.030964,
     "end_time": "2021-11-06T04:27:10.762432",
     "exception": false,
     "start_time": "2021-11-06T04:27:10.731468",
     "status": "completed"
    },
    "tags": []
   },
   "source": [
    "<h2>Regression</h2>"
   ]
  },
  {
   "cell_type": "markdown",
   "id": "b710aeb0",
   "metadata": {
    "papermill": {
     "duration": 0.030869,
     "end_time": "2021-11-06T04:27:10.823798",
     "exception": false,
     "start_time": "2021-11-06T04:27:10.792929",
     "status": "completed"
    },
    "tags": []
   },
   "source": [
    "Linear regression is used because the correlation between the variables is high. Dropping out highly correlated variables, performing PCA gave higher rmse values. Hence all the variables were considered to train the model.Out of all the regression models that were used, linear regression gave the lowest rmse value. A pipeline was used with StandardScaler for preprocessing. "
   ]
  },
  {
   "cell_type": "code",
   "execution_count": 12,
   "id": "a661f2d5",
   "metadata": {
    "execution": {
     "iopub.execute_input": "2021-11-06T04:27:10.887370Z",
     "iopub.status.busy": "2021-11-06T04:27:10.886384Z",
     "iopub.status.idle": "2021-11-06T04:27:10.891789Z",
     "shell.execute_reply": "2021-11-06T04:27:10.892364Z",
     "shell.execute_reply.started": "2021-11-06T04:25:40.514194Z"
    },
    "papermill": {
     "duration": 0.038831,
     "end_time": "2021-11-06T04:27:10.892552",
     "exception": false,
     "start_time": "2021-11-06T04:27:10.853721",
     "status": "completed"
    },
    "tags": []
   },
   "outputs": [],
   "source": [
    "#date is dropped as it isn't required for prediction\n",
    "df.drop(['Date'],axis=1,inplace=True)"
   ]
  },
  {
   "cell_type": "code",
   "execution_count": 13,
   "id": "959700cd",
   "metadata": {
    "execution": {
     "iopub.execute_input": "2021-11-06T04:27:10.960404Z",
     "iopub.status.busy": "2021-11-06T04:27:10.959605Z",
     "iopub.status.idle": "2021-11-06T04:27:10.963079Z",
     "shell.execute_reply": "2021-11-06T04:27:10.962341Z",
     "shell.execute_reply.started": "2021-11-06T04:25:40.529666Z"
    },
    "papermill": {
     "duration": 0.040212,
     "end_time": "2021-11-06T04:27:10.963274",
     "exception": false,
     "start_time": "2021-11-06T04:27:10.923062",
     "status": "completed"
    },
    "tags": []
   },
   "outputs": [],
   "source": [
    "#getting the predictors and the preidcted variables\n",
    "X = df.iloc[:,:-1]\n",
    "y = df.iloc[:,-1]"
   ]
  },
  {
   "cell_type": "code",
   "execution_count": 14,
   "id": "01965f80",
   "metadata": {
    "execution": {
     "iopub.execute_input": "2021-11-06T04:27:11.037356Z",
     "iopub.status.busy": "2021-11-06T04:27:11.036289Z",
     "iopub.status.idle": "2021-11-06T04:27:11.039434Z",
     "shell.execute_reply": "2021-11-06T04:27:11.038716Z",
     "shell.execute_reply.started": "2021-11-06T04:25:40.543641Z"
    },
    "papermill": {
     "duration": 0.044872,
     "end_time": "2021-11-06T04:27:11.039606",
     "exception": false,
     "start_time": "2021-11-06T04:27:10.994734",
     "status": "completed"
    },
    "tags": []
   },
   "outputs": [],
   "source": [
    "#splitting the dataset\n",
    "X_train, X_test, y_train, y_test = train_test_split(X, y,random_state=0)"
   ]
  },
  {
   "cell_type": "code",
   "execution_count": 15,
   "id": "9eba5d9a",
   "metadata": {
    "execution": {
     "iopub.execute_input": "2021-11-06T04:27:11.106819Z",
     "iopub.status.busy": "2021-11-06T04:27:11.106067Z",
     "iopub.status.idle": "2021-11-06T04:27:11.107847Z",
     "shell.execute_reply": "2021-11-06T04:27:11.108466Z",
     "shell.execute_reply.started": "2021-11-06T04:25:40.557056Z"
    },
    "papermill": {
     "duration": 0.038614,
     "end_time": "2021-11-06T04:27:11.108664",
     "exception": false,
     "start_time": "2021-11-06T04:27:11.070050",
     "status": "completed"
    },
    "tags": []
   },
   "outputs": [],
   "source": [
    "#creating a pipeline to \n",
    "pipe = Pipeline([('scaler', StandardScaler()), ('reg', LinearRegression())])"
   ]
  },
  {
   "cell_type": "code",
   "execution_count": 16,
   "id": "78c63d4a",
   "metadata": {
    "execution": {
     "iopub.execute_input": "2021-11-06T04:27:11.174433Z",
     "iopub.status.busy": "2021-11-06T04:27:11.173762Z",
     "iopub.status.idle": "2021-11-06T04:27:11.187042Z",
     "shell.execute_reply": "2021-11-06T04:27:11.187694Z",
     "shell.execute_reply.started": "2021-11-06T04:25:40.567658Z"
    },
    "papermill": {
     "duration": 0.048934,
     "end_time": "2021-11-06T04:27:11.187911",
     "exception": false,
     "start_time": "2021-11-06T04:27:11.138977",
     "status": "completed"
    },
    "tags": []
   },
   "outputs": [
    {
     "data": {
      "text/plain": [
       "Pipeline(steps=[('scaler', StandardScaler()), ('reg', LinearRegression())])"
      ]
     },
     "execution_count": 16,
     "metadata": {},
     "output_type": "execute_result"
    }
   ],
   "source": [
    "#Training the model\n",
    "pipe.fit(X_train,y_train)"
   ]
  },
  {
   "cell_type": "code",
   "execution_count": 17,
   "id": "995f18fe",
   "metadata": {
    "execution": {
     "iopub.execute_input": "2021-11-06T04:27:11.255702Z",
     "iopub.status.busy": "2021-11-06T04:27:11.251598Z",
     "iopub.status.idle": "2021-11-06T04:27:11.258755Z",
     "shell.execute_reply": "2021-11-06T04:27:11.258213Z",
     "shell.execute_reply.started": "2021-11-06T04:25:40.593125Z"
    },
    "papermill": {
     "duration": 0.040538,
     "end_time": "2021-11-06T04:27:11.258911",
     "exception": false,
     "start_time": "2021-11-06T04:27:11.218373",
     "status": "completed"
    },
    "tags": []
   },
   "outputs": [],
   "source": [
    "#making predictions\n",
    "y_pred = pipe.predict(X_test)"
   ]
  },
  {
   "cell_type": "code",
   "execution_count": 18,
   "id": "4f1e6474",
   "metadata": {
    "execution": {
     "iopub.execute_input": "2021-11-06T04:27:11.334773Z",
     "iopub.status.busy": "2021-11-06T04:27:11.333898Z",
     "iopub.status.idle": "2021-11-06T04:27:11.337840Z",
     "shell.execute_reply": "2021-11-06T04:27:11.337294Z",
     "shell.execute_reply.started": "2021-11-06T04:25:40.601453Z"
    },
    "papermill": {
     "duration": 0.047856,
     "end_time": "2021-11-06T04:27:11.337994",
     "exception": false,
     "start_time": "2021-11-06T04:27:11.290138",
     "status": "completed"
    },
    "tags": []
   },
   "outputs": [
    {
     "data": {
      "text/html": [
       "<div>\n",
       "<style scoped>\n",
       "    .dataframe tbody tr th:only-of-type {\n",
       "        vertical-align: middle;\n",
       "    }\n",
       "\n",
       "    .dataframe tbody tr th {\n",
       "        vertical-align: top;\n",
       "    }\n",
       "\n",
       "    .dataframe thead th {\n",
       "        text-align: right;\n",
       "    }\n",
       "</style>\n",
       "<table border=\"1\" class=\"dataframe\">\n",
       "  <thead>\n",
       "    <tr style=\"text-align: right;\">\n",
       "      <th></th>\n",
       "      <th>Actual</th>\n",
       "      <th>Predicted</th>\n",
       "    </tr>\n",
       "  </thead>\n",
       "  <tbody>\n",
       "    <tr>\n",
       "      <th>1465</th>\n",
       "      <td>256.842682</td>\n",
       "      <td>258.844873</td>\n",
       "    </tr>\n",
       "    <tr>\n",
       "      <th>937</th>\n",
       "      <td>104.032578</td>\n",
       "      <td>104.233183</td>\n",
       "    </tr>\n",
       "    <tr>\n",
       "      <th>681</th>\n",
       "      <td>84.466881</td>\n",
       "      <td>84.808191</td>\n",
       "    </tr>\n",
       "    <tr>\n",
       "      <th>483</th>\n",
       "      <td>76.089623</td>\n",
       "      <td>76.467491</td>\n",
       "    </tr>\n",
       "    <tr>\n",
       "      <th>461</th>\n",
       "      <td>73.998199</td>\n",
       "      <td>73.810105</td>\n",
       "    </tr>\n",
       "    <tr>\n",
       "      <th>529</th>\n",
       "      <td>79.475311</td>\n",
       "      <td>78.948616</td>\n",
       "    </tr>\n",
       "    <tr>\n",
       "      <th>47</th>\n",
       "      <td>57.227680</td>\n",
       "      <td>57.782480</td>\n",
       "    </tr>\n",
       "    <tr>\n",
       "      <th>563</th>\n",
       "      <td>88.417892</td>\n",
       "      <td>88.394872</td>\n",
       "    </tr>\n",
       "    <tr>\n",
       "      <th>649</th>\n",
       "      <td>90.804611</td>\n",
       "      <td>90.869194</td>\n",
       "    </tr>\n",
       "    <tr>\n",
       "      <th>1416</th>\n",
       "      <td>248.520889</td>\n",
       "      <td>249.665197</td>\n",
       "    </tr>\n",
       "  </tbody>\n",
       "</table>\n",
       "</div>"
      ],
      "text/plain": [
       "          Actual   Predicted\n",
       "1465  256.842682  258.844873\n",
       "937   104.032578  104.233183\n",
       "681    84.466881   84.808191\n",
       "483    76.089623   76.467491\n",
       "461    73.998199   73.810105\n",
       "529    79.475311   78.948616\n",
       "47     57.227680   57.782480\n",
       "563    88.417892   88.394872\n",
       "649    90.804611   90.869194\n",
       "1416  248.520889  249.665197"
      ]
     },
     "execution_count": 18,
     "metadata": {},
     "output_type": "execute_result"
    }
   ],
   "source": [
    "#looking at the actual and the predicted values\n",
    "pred = pd.DataFrame()\n",
    "pred['Actual']=y_test\n",
    "pred['Predicted'] = y_pred\n",
    "pred.sample(10)"
   ]
  },
  {
   "cell_type": "code",
   "execution_count": 19,
   "id": "1ee16b39",
   "metadata": {
    "execution": {
     "iopub.execute_input": "2021-11-06T04:27:11.407286Z",
     "iopub.status.busy": "2021-11-06T04:27:11.406267Z",
     "iopub.status.idle": "2021-11-06T04:27:11.412991Z",
     "shell.execute_reply": "2021-11-06T04:27:11.412355Z",
     "shell.execute_reply.started": "2021-11-06T04:25:40.624719Z"
    },
    "papermill": {
     "duration": 0.041977,
     "end_time": "2021-11-06T04:27:11.413165",
     "exception": false,
     "start_time": "2021-11-06T04:27:11.371188",
     "status": "completed"
    },
    "tags": []
   },
   "outputs": [
    {
     "name": "stdout",
     "output_type": "stream",
     "text": [
      "1.0153247265441223\n"
     ]
    }
   ],
   "source": [
    "#printing the rmse\n",
    "print(mean_squared_error(y_test,y_pred)**0.5)"
   ]
  },
  {
   "cell_type": "code",
   "execution_count": 20,
   "id": "e031570b",
   "metadata": {
    "execution": {
     "iopub.execute_input": "2021-11-06T04:27:11.482069Z",
     "iopub.status.busy": "2021-11-06T04:27:11.481075Z",
     "iopub.status.idle": "2021-11-06T04:27:11.493472Z",
     "shell.execute_reply": "2021-11-06T04:27:11.493965Z",
     "shell.execute_reply.started": "2021-11-06T04:25:40.639230Z"
    },
    "papermill": {
     "duration": 0.048236,
     "end_time": "2021-11-06T04:27:11.494203",
     "exception": false,
     "start_time": "2021-11-06T04:27:11.445967",
     "status": "completed"
    },
    "tags": []
   },
   "outputs": [],
   "source": [
    "#Importing the test csv files\n",
    "test = pd.read_csv('../input/pes-ec-dataanalytics-assign/test.csv')"
   ]
  },
  {
   "cell_type": "code",
   "execution_count": 21,
   "id": "7423030d",
   "metadata": {
    "execution": {
     "iopub.execute_input": "2021-11-06T04:27:11.561111Z",
     "iopub.status.busy": "2021-11-06T04:27:11.560480Z",
     "iopub.status.idle": "2021-11-06T04:27:11.565371Z",
     "shell.execute_reply": "2021-11-06T04:27:11.565903Z",
     "shell.execute_reply.started": "2021-11-06T04:25:40.658496Z"
    },
    "papermill": {
     "duration": 0.040415,
     "end_time": "2021-11-06T04:27:11.566216",
     "exception": false,
     "start_time": "2021-11-06T04:27:11.525801",
     "status": "completed"
    },
    "tags": []
   },
   "outputs": [],
   "source": [
    "#drop the date and the close columns as they aren't required for making the predictions\n",
    "test.drop(['Date','Close'],axis=1,inplace=True)"
   ]
  },
  {
   "cell_type": "code",
   "execution_count": 22,
   "id": "0aa0a326",
   "metadata": {
    "execution": {
     "iopub.execute_input": "2021-11-06T04:27:11.639974Z",
     "iopub.status.busy": "2021-11-06T04:27:11.639271Z",
     "iopub.status.idle": "2021-11-06T04:27:11.640665Z",
     "shell.execute_reply": "2021-11-06T04:27:11.641136Z",
     "shell.execute_reply.started": "2021-11-06T04:25:40.664933Z"
    },
    "papermill": {
     "duration": 0.041292,
     "end_time": "2021-11-06T04:27:11.641355",
     "exception": false,
     "start_time": "2021-11-06T04:27:11.600063",
     "status": "completed"
    },
    "tags": []
   },
   "outputs": [],
   "source": [
    "#the predictions are made and stored in res\n",
    "res = pipe.predict(test)"
   ]
  },
  {
   "cell_type": "code",
   "execution_count": 23,
   "id": "2e1486b4",
   "metadata": {
    "execution": {
     "iopub.execute_input": "2021-11-06T04:27:11.711554Z",
     "iopub.status.busy": "2021-11-06T04:27:11.710849Z",
     "iopub.status.idle": "2021-11-06T04:27:11.725589Z",
     "shell.execute_reply": "2021-11-06T04:27:11.726134Z",
     "shell.execute_reply.started": "2021-11-06T04:25:40.680746Z"
    },
    "papermill": {
     "duration": 0.052092,
     "end_time": "2021-11-06T04:27:11.726425",
     "exception": false,
     "start_time": "2021-11-06T04:27:11.674333",
     "status": "completed"
    },
    "tags": []
   },
   "outputs": [],
   "source": [
    "#the submissions are exported the csv file\n",
    "sub = pd.read_csv('../input/pes-ec-dataanalytics-assign/sample_submission.csv')\n",
    "sub['Close'] = res\n",
    "sub.to_csv('./submission.csv',index=False)"
   ]
  },
  {
   "cell_type": "markdown",
   "id": "88d1ea8f",
   "metadata": {
    "papermill": {
     "duration": 0.031407,
     "end_time": "2021-11-06T04:27:11.790815",
     "exception": false,
     "start_time": "2021-11-06T04:27:11.759408",
     "status": "completed"
    },
    "tags": []
   },
   "source": [
    "# Conclusions:\n",
    "As alredy mentioned, the regression model performs better than the forecasting model with a lower rmse on the test data.\n",
    "This might also be due to the fact that forecasting models take into account only the previous values but regression looks at the other independent variables like Open, High, Low and Volume. This would help in making better predictions.\n",
    "The Regression pipeline is used to make the final submission due to the above mentioned reasons."
   ]
  }
 ],
 "metadata": {
  "kernelspec": {
   "display_name": "Python 3",
   "language": "python",
   "name": "python3"
  },
  "language_info": {
   "codemirror_mode": {
    "name": "ipython",
    "version": 3
   },
   "file_extension": ".py",
   "mimetype": "text/x-python",
   "name": "python",
   "nbconvert_exporter": "python",
   "pygments_lexer": "ipython3",
   "version": "3.7.10"
  },
  "papermill": {
   "default_parameters": {},
   "duration": 22.804538,
   "end_time": "2021-11-06T04:27:12.634225",
   "environment_variables": {},
   "exception": null,
   "input_path": "__notebook__.ipynb",
   "output_path": "__notebook__.ipynb",
   "parameters": {},
   "start_time": "2021-11-06T04:26:49.829687",
   "version": "2.3.3"
  }
 },
 "nbformat": 4,
 "nbformat_minor": 5
}
